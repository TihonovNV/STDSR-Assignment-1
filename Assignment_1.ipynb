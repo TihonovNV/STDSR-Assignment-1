{
 "cells": [
  {
   "cell_type": "code",
   "execution_count": 14,
   "id": "a885b6cd-ad71-41f0-a11e-a989fef0ff97",
   "metadata": {},
   "outputs": [],
   "source": [
    "import numpy as np\n",
    "import scipy as sp\n",
    "import functools\n",
    "from bisect import bisect_left\n",
    "import matplotlib.pyplot as plt\n",
    "import random\n",
    "from tqdm import tqdm\n",
    "random.seed(42)"
   ]
  },
  {
   "cell_type": "code",
   "execution_count": 12,
   "id": "870e6c67-f332-4f89-af49-ea795b4b36b8",
   "metadata": {},
   "outputs": [],
   "source": [
    "class GK01():\n",
    "    @functools.total_ordering\n",
    "    class T():\n",
    "        def __init__(self, v, g, delta):\n",
    "            self.v = v\n",
    "            self.g = g\n",
    "            self.delta = delta\n",
    "            \n",
    "        def __lt__(self, other):\n",
    "            return self.v < other.v\n",
    "    \n",
    "    def __init__(self, epsilon: float):\n",
    "        self.S = []\n",
    "        self.n = 0\n",
    "        self.epsilon = epsilon\n",
    "        self.interval = int(np.floor(1 / (2 * epsilon)))\n",
    "    \n",
    "    def add(self, v: int):\n",
    "        t = self.T(v=v, g=1, delta=int(np.floor(2 * self.epsilon * self.n)))\n",
    "        index = self.get_insert_index(t)\n",
    "        if index == 0 or index == len(self.S):\n",
    "            t.delta = 0;\n",
    "    \n",
    "        if self.n % self.interval == 0:\n",
    "            self.compress()\n",
    "    \n",
    "        self.S.insert(index, t)\n",
    "        self.n += 1\n",
    "    \n",
    "            \n",
    "    def get_insert_index(self, t: T):\n",
    "        index = bisect_left(self.S, t)\n",
    "        return index\n",
    "    \n",
    "    def compress(self):\n",
    "        for i in range(len(self.S) - 2, 0, -1):\n",
    "            while i < len(self.S) - 1 and self.delete_el(i):\n",
    "                continue\n",
    "\n",
    "    def delete_el(self, i: int):\n",
    "        t1, t2 = self.S[i], self.S[i + 1]\n",
    "        \n",
    "        if t1.delta >= t2.delta and t1.g + t2.g + t2.delta < int(np.floor(2 * self.epsilon * self.n)):\n",
    "            self.S.pop(i)\n",
    "            t2.g += t1.g\n",
    "            return True\n",
    "        \n",
    "        return False\n",
    "        \n",
    "    def get_quantile(self, p: float):\n",
    "        rank = p * (self.n - 1) + 1\n",
    "        margin = int(np.ceil(self.epsilon * self.n))\n",
    "        \n",
    "        best = -1\n",
    "        best_dist = np.inf\n",
    "        r_min = 0\n",
    "        for i, t_i in enumerate(self.S):\n",
    "            r_min += t_i.g\n",
    "            r_max = r_min + t_i.delta\n",
    "            if rank - margin <= r_min and r_max <= rank + margin:\n",
    "                cur_dist = np.abs(rank - (r_min + r_max) / 2)\n",
    "                if cur_dist < best_dist:\n",
    "                    best_dist = cur_dist\n",
    "                    best = i\n",
    "        if best == -1:\n",
    "            return('error')\n",
    "        return self.S[best].v\n"
   ]
  },
  {
   "cell_type": "code",
   "execution_count": 16,
   "id": "d6b1a052-3eac-4c2a-bffa-07273ddcda62",
   "metadata": {},
   "outputs": [
    {
     "name": "stderr",
     "output_type": "stream",
     "text": [
      "100%|██████████| 200/200 [04:13<00:00,  1.27s/it]\n"
     ]
    }
   ],
   "source": [
    "data = []\n",
    "stream = list(range(100000))\n",
    "\n",
    "for k in tqdm(range(200)):\n",
    "    data.append(0)\n",
    "    gk01 = GK01(0.0001)\n",
    "    random.shuffle(stream)\n",
    "    for el in stream:\n",
    "        gk01.add(el)\n",
    "        if data[k] < len(gk01.S):\n",
    "            data[k] = len(gk01.S)"
   ]
  },
  {
   "cell_type": "code",
   "execution_count": 22,
   "id": "13af4232-195d-40ef-a349-49434fc74ac1",
   "metadata": {},
   "outputs": [
    {
     "data": {
      "image/png": "[encoded data removed]",
      "text/plain": [
       "<Figure size 432x288 with 1 Axes>"
      ]
     },
     "metadata": {
      "needs_background": "light"
     },
     "output_type": "display_data"
    }
   ],
   "source": [
    "plt.hist(data, bins=20)\n",
    "plt.ylabel('Total number outcomes')\n",
    "plt.xlabel('Maximum number of elements in array')\n",
    "None"
   ]
  },
  {
   "cell_type": "code",
   "execution_count": 192,
   "id": "b416d8ef-65a2-4f20-a7aa-fdf14b495bba",
   "metadata": {},
   "outputs": [
    {
     "data": {
      "text/plain": [
       "[<matplotlib.lines.Line2D at 0x7f9ac98d4d90>]"
      ]
     },
     "execution_count": 192,
     "metadata": {},
     "output_type": "execute_result"
    },
    {
     "data": {
      "image/png": "[encoded data removed]",
      "text/plain": [
       "<Figure size 432x288 with 1 Axes>"
      ]
     },
     "metadata": {
      "needs_background": "light"
     },
     "output_type": "display_data"
    }
   ],
   "source": [
    "plt.plot([m[0] for m in data], [m[1] for m in data])"
   ]
  },
  {
   "cell_type": "code",
   "execution_count": 187,
   "id": "29e6290f-97f1-4294-a560-420ec6c808f0",
   "metadata": {},
   "outputs": [
    {
     "data": {
      "text/plain": [
       "[(101, 101),\n",
       " (102, 102),\n",
       " (103, 103),\n",
       " (104, 104),\n",
       " (105, 105),\n",
       " (106, 106),\n",
       " (107, 107),\n",
       " (108, 108),\n",
       " (109, 109),\n",
       " (110, 110),\n",
       " (111, 111),\n",
       " (112, 112),\n",
       " (113, 113),\n",
       " (114, 114),\n",
       " (115, 115),\n",
       " (116, 116),\n",
       " (117, 117),\n",
       " (118, 118),\n",
       " (119, 119),\n",
       " (120, 120),\n",
       " (121, 121),\n",
       " (122, 122),\n",
       " (123, 123),\n",
       " (124, 124),\n",
       " (125, 125),\n",
       " (126, 126),\n",
       " (127, 127),\n",
       " (128, 128),\n",
       " (129, 129),\n",
       " (130, 130),\n",
       " (131, 131),\n",
       " (132, 132),\n",
       " (133, 133),\n",
       " (134, 134),\n",
       " (135, 135),\n",
       " (136, 136),\n",
       " (137, 137),\n",
       " (138, 138),\n",
       " (139, 139),\n",
       " (140, 140),\n",
       " (141, 141),\n",
       " (142, 142),\n",
       " (143, 143),\n",
       " (144, 144),\n",
       " (145, 145),\n",
       " (146, 146),\n",
       " (147, 147),\n",
       " (148, 148),\n",
       " (149, 149),\n",
       " (150, 150),\n",
       " (151, 151),\n",
       " (152, 152),\n",
       " (153, 153),\n",
       " (154, 154),\n",
       " (155, 155),\n",
       " (156, 156),\n",
       " (157, 157),\n",
       " (158, 158),\n",
       " (159, 159),\n",
       " (160, 160),\n",
       " (161, 161),\n",
       " (162, 162),\n",
       " (163, 163),\n",
       " (164, 164),\n",
       " (165, 165),\n",
       " (166, 166),\n",
       " (167, 167),\n",
       " (168, 168),\n",
       " (169, 169),\n",
       " (170, 170),\n",
       " (171, 171),\n",
       " (172, 172),\n",
       " (173, 173),\n",
       " (174, 174),\n",
       " (175, 175),\n",
       " (176, 176),\n",
       " (177, 177),\n",
       " (178, 178),\n",
       " (179, 179),\n",
       " (180, 180),\n",
       " (181, 181),\n",
       " (182, 182),\n",
       " (183, 183),\n",
       " (184, 184),\n",
       " (185, 185),\n",
       " (186, 186),\n",
       " (187, 187),\n",
       " (188, 188),\n",
       " (189, 189),\n",
       " (190, 190),\n",
       " (191, 191),\n",
       " (192, 192),\n",
       " (193, 193),\n",
       " (194, 194),\n",
       " (195, 195),\n",
       " (196, 196),\n",
       " (197, 197),\n",
       " (198, 198),\n",
       " (199, 199),\n",
       " (200, 200)]"
      ]
     },
     "execution_count": 187,
     "metadata": {},
     "output_type": "execute_result"
    }
   ],
   "source": [
    "data[100:200]"
   ]
  }
 ],
 "metadata": {
  "kernelspec": {
   "display_name": "Python 3",
   "language": "python",
   "name": "python3"
  },
  "language_info": {
   "codemirror_mode": {
    "name": "ipython",
    "version": 3
   },
   "file_extension": ".py",
   "mimetype": "text/x-python",
   "name": "python",
   "nbconvert_exporter": "python",
   "pygments_lexer": "ipython3",
   "version": "3.8.10"
  }
 },
 "nbformat": 4,
 "nbformat_minor": 5
}
